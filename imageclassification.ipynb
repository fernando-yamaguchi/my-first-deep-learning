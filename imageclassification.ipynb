{
 "cells": [
  {
   "cell_type": "code",
   "execution_count": 1,
   "metadata": {},
   "outputs": [
    {
     "name": "stdout",
     "output_type": "stream",
     "text": [
      "Files already downloaded and verified\n",
      "Files already downloaded and verified\n"
     ]
    },
    {
     "data": {
      "text/plain": [
       "'Dataset Loading and Preprocessing Complete'"
      ]
     },
     "execution_count": 1,
     "metadata": {},
     "output_type": "execute_result"
    }
   ],
   "source": [
    "import torch\n",
    "import torchvision\n",
    "import torchvision.transforms as transforms\n",
    "\n",
    "# Define transformations for the dataset\n",
    "transform = transforms.Compose(\n",
    "    [transforms.ToTensor(),\n",
    "     transforms.Normalize((0.5, 0.5, 0.5), (0.5, 0.5, 0.5))])\n",
    "\n",
    "# Load CIFAR-10 training and test datasets\n",
    "trainset = torchvision.datasets.CIFAR10(root='./data', train=True,\n",
    "                                        download=True, transform=transform)\n",
    "testset = torchvision.datasets.CIFAR10(root='./data', train=False,\n",
    "                                       download=True, transform=transform)\n",
    "\n",
    "# Create data loaders for training and test sets\n",
    "trainloader = torch.utils.data.DataLoader(trainset, batch_size=4,\n",
    "                                          shuffle=True, num_workers=2)\n",
    "testloader = torch.utils.data.DataLoader(testset, batch_size=4,\n",
    "                                         shuffle=False, num_workers=2)\n",
    "\n",
    "# Classes in CIFAR-10\n",
    "classes = ('plane', 'car', 'bird', 'cat', 'deer', 'dog', 'frog', 'horse', 'ship', 'truck')\n",
    "\n",
    "# Code for loading and preprocessing the CIFAR-10 dataset is complete\n",
    "\"Dataset Loading and Preprocessing Complete\""
   ]
  },
  {
   "cell_type": "code",
   "execution_count": 5,
   "metadata": {},
   "outputs": [],
   "source": [
    "import torch.nn as nn\n",
    "import torch.nn.functional as F\n",
    "\n",
    "# Define the CNN architecture\n",
    "class SimpleCNN(nn.Module):\n",
    "    def __init__(self):\n",
    "        super(SimpleCNN, self).__init__()\n",
    "        # Convolutional layer (sees 32x32x3 image tensor)\n",
    "        self.conv1 = nn.Conv2d(3, 6, 5)\n",
    "        # Convolutional layer (sees 14x14x6 tensor)\n",
    "        self.conv2 = nn.Conv2d(6, 16, 5)\n",
    "        # Max pooling layer\n",
    "        self.pool = nn.MaxPool2d(2, 2)\n",
    "        # Linear layer (16 * 5 * 5 -> 120)\n",
    "        self.fc1 = nn.Linear(16 * 5 * 5, 120)\n",
    "        # Linear layer (120 -> 84)\n",
    "        self.fc2 = nn.Linear(120, 84)\n",
    "        # Linear layer (84 -> 10)\n",
    "        self.fc3 = nn.Linear(84, 10)\n",
    "\n",
    "    def forward(self, x):\n",
    "        # Add sequence of convolutional and max pooling layers\n",
    "        x = self.pool(F.relu(self.conv1(x)))\n",
    "        x = self.pool(F.relu(self.conv2(x)))\n",
    "        # Flatten image input\n",
    "        x = x.view(-1, 16 * 5 * 5)\n",
    "        # Add dropout layer\n",
    "        x = F.dropout(x, p=0.5)\n",
    "        # Add 1st hidden layer, with relu activation function\n",
    "        x = F.relu(self.fc1(x))\n",
    "        # Add 2nd hidden layer\n",
    "        x = F.relu(self.fc2(x))\n",
    "        # Add 3rd hidden layer (output layer)\n",
    "        x = self.fc3(x)\n",
    "        return x\n",
    "\n",
    "# Create the CNN model\n",
    "model = SimpleCNN()"
   ]
  },
  {
   "cell_type": "code",
   "execution_count": 6,
   "metadata": {},
   "outputs": [],
   "source": [
    "import torch.optim as optim\n",
    "\n",
    "# Define the loss function\n",
    "criterion = nn.CrossEntropyLoss()\n",
    "\n",
    "# Choose the optimizer (using Adam here)\n",
    "optimizer = optim.Adam(model.parameters(), lr=0.001)"
   ]
  },
  {
   "cell_type": "code",
   "execution_count": 7,
   "metadata": {},
   "outputs": [
    {
     "name": "stdout",
     "output_type": "stream",
     "text": [
      "Epoch 1, Batch 2000, Loss: 1.9478\n",
      "Epoch 1, Batch 4000, Loss: 1.7037\n",
      "Epoch 1, Batch 6000, Loss: 1.6339\n",
      "Epoch 1, Batch 8000, Loss: 1.5608\n",
      "Epoch 1, Batch 10000, Loss: 1.5299\n",
      "Epoch 1, Batch 12000, Loss: 1.5055\n",
      "Epoch 2, Batch 2000, Loss: 1.4800\n",
      "Epoch 2, Batch 4000, Loss: 1.4592\n",
      "Epoch 2, Batch 6000, Loss: 1.4608\n",
      "Epoch 2, Batch 8000, Loss: 1.4169\n",
      "Epoch 2, Batch 10000, Loss: 1.4417\n",
      "Epoch 2, Batch 12000, Loss: 1.3973\n",
      "Epoch 3, Batch 2000, Loss: 1.3882\n",
      "Epoch 3, Batch 4000, Loss: 1.3884\n",
      "Epoch 3, Batch 6000, Loss: 1.3694\n",
      "Epoch 3, Batch 8000, Loss: 1.3746\n",
      "Epoch 3, Batch 10000, Loss: 1.3649\n",
      "Epoch 3, Batch 12000, Loss: 1.3643\n",
      "Epoch 4, Batch 2000, Loss: 1.3404\n",
      "Epoch 4, Batch 4000, Loss: 1.3404\n",
      "Epoch 4, Batch 6000, Loss: 1.3500\n",
      "Epoch 4, Batch 8000, Loss: 1.3269\n",
      "Epoch 4, Batch 10000, Loss: 1.3330\n",
      "Epoch 4, Batch 12000, Loss: 1.3224\n",
      "Epoch 5, Batch 2000, Loss: 1.3002\n",
      "Epoch 5, Batch 4000, Loss: 1.2832\n",
      "Epoch 5, Batch 6000, Loss: 1.3136\n",
      "Epoch 5, Batch 8000, Loss: 1.3117\n",
      "Epoch 5, Batch 10000, Loss: 1.2944\n",
      "Epoch 5, Batch 12000, Loss: 1.3117\n",
      "Finished Training\n"
     ]
    },
    {
     "data": {
      "text/plain": [
       "'Training Loop Implementation Complete'"
      ]
     },
     "execution_count": 7,
     "metadata": {},
     "output_type": "execute_result"
    }
   ],
   "source": [
    "# Define the number of epochs for training\n",
    "num_epochs = 5\n",
    "\n",
    "for epoch in range(num_epochs):  # loop over the dataset multiple times\n",
    "\n",
    "    running_loss = 0.0\n",
    "    for i, data in enumerate(trainloader, 0):\n",
    "        # get the inputs; data is a list of [inputs, labels]\n",
    "        inputs, labels = data\n",
    "\n",
    "        # zero the parameter gradients\n",
    "        optimizer.zero_grad()\n",
    "\n",
    "        # forward pass\n",
    "        outputs = model(inputs)\n",
    "        loss = criterion(outputs, labels)\n",
    "\n",
    "        # backward pass\n",
    "        loss.backward()\n",
    "\n",
    "        # optimize\n",
    "        optimizer.step()\n",
    "\n",
    "        # print statistics\n",
    "        running_loss += loss.item()\n",
    "        if i % 2000 == 1999:    # print every 2000 mini-batches\n",
    "            print(f'Epoch {epoch + 1}, Batch {i + 1}, Loss: {running_loss / 2000:.4f}')\n",
    "            running_loss = 0.0\n",
    "\n",
    "print('Finished Training')"
   ]
  },
  {
   "cell_type": "code",
   "execution_count": 8,
   "metadata": {},
   "outputs": [
    {
     "name": "stdout",
     "output_type": "stream",
     "text": [
      "Accuracy of the network on the test images: 53.44%\n"
     ]
    },
    {
     "data": {
      "text/plain": [
       "'Evaluation Code Snippet Complete'"
      ]
     },
     "execution_count": 8,
     "metadata": {},
     "output_type": "execute_result"
    }
   ],
   "source": [
    "# Set the model to evaluation mode\n",
    "model.eval()\n",
    "\n",
    "correct = 0\n",
    "total = 0\n",
    "with torch.no_grad():\n",
    "    for data in testloader:\n",
    "        images, labels = data\n",
    "        outputs = model(images)\n",
    "        _, predicted = torch.max(outputs.data, 1)\n",
    "        total += labels.size(0)\n",
    "        correct += (predicted == labels).sum().item()\n",
    "\n",
    "accuracy = 100 * correct / total\n",
    "print(f'Accuracy of the network on the test images: {accuracy}%')"
   ]
  },
  {
   "cell_type": "code",
   "execution_count": null,
   "metadata": {},
   "outputs": [],
   "source": []
  }
 ],
 "metadata": {
  "kernelspec": {
   "display_name": "Python 3",
   "language": "python",
   "name": "python3"
  },
  "language_info": {
   "codemirror_mode": {
    "name": "ipython",
    "version": 3
   },
   "file_extension": ".py",
   "mimetype": "text/x-python",
   "name": "python",
   "nbconvert_exporter": "python",
   "pygments_lexer": "ipython3",
   "version": "3.9.6"
  }
 },
 "nbformat": 4,
 "nbformat_minor": 2
}
